{
 "cells": [
  {
   "cell_type": "markdown",
   "metadata": {},
   "source": [
    "# Призначення Jupyter Notebook\n",
    "\n",
    "Jupyter Notebook — це інтерактивне середовище для написання та виконання коду, що використовується в основному для наукових досліджень, аналізу даних, візуалізації даних та машинного навчання. Воно дозволяє об'єднувати код, текст, зображення та графіки в одному документі.\n"
   ]
  },
  {
   "cell_type": "code",
   "execution_count": 1,
   "metadata": {},
   "outputs": [
    {
     "name": "stdout",
     "output_type": "stream",
     "text": [
      "Hello, meow!\n"
     ]
    }
   ],
   "source": [
    "\n",
    "name = input(\"Please enter your name: \")\n",
    "\n",
    "print(f\"Hello, {name}!\")\n"
   ]
  },
  {
   "cell_type": "code",
   "execution_count": 1,
   "metadata": {},
   "outputs": [
    {
     "name": "stdout",
     "output_type": "stream",
     "text": [
      "Random numbers: [0.83552367 0.81998801 0.67008004 0.84464663 0.29771779 0.75113584\n",
      " 0.78579431 0.5958646  0.63989205 0.6882327 ]\n",
      "Mean value: 0.692887564222311\n"
     ]
    }
   ],
   "source": [
    "import numpy as np # type: ignore\n",
    "\n",
    "random_numbers = np.random.rand(10)\n",
    "mean_value = np.mean(random_numbers)\n",
    "\n",
    "print(\"Random numbers:\", random_numbers)\n",
    "print(\"Mean value:\", mean_value)\n"
   ]
  }
 ],
 "metadata": {
  "kernelspec": {
   "display_name": ".venv",
   "language": "python",
   "name": "python3"
  },
  "language_info": {
   "codemirror_mode": {
    "name": "ipython",
    "version": 3
   },
   "file_extension": ".py",
   "mimetype": "text/x-python",
   "name": "python",
   "nbconvert_exporter": "python",
   "pygments_lexer": "ipython3",
   "version": "3.10.11"
  }
 },
 "nbformat": 4,
 "nbformat_minor": 2
}
