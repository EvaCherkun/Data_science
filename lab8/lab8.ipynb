{
 "cells": [
  {
   "cell_type": "markdown",
   "metadata": {},
   "source": [
    "Завдання: Виконати вирішення задачі класифікації для 3 класів з набору даних food101 "
   ]
  },
  {
   "cell_type": "markdown",
   "metadata": {},
   "source": [
    "21\t51\t81"
   ]
  },
  {
   "cell_type": "code",
   "execution_count": null,
   "metadata": {
    "vscode": {
     "languageId": "plaintext"
    }
   },
   "outputs": [],
   "source": []
  }
 ],
 "metadata": {
  "language_info": {
   "name": "python"
  }
 },
 "nbformat": 4,
 "nbformat_minor": 2
}
